{
 "cells": [
  {
   "cell_type": "code",
   "execution_count": 55,
   "metadata": {
    "collapsed": false
   },
   "outputs": [],
   "source": [
    "from osgeo import gdal, osr, gdal_array\n",
    "import zipfile,os\n",
    "from urllib.request import urlretrieve\n",
    "\n",
    "netcdf_link='http://fizz.phys.dal.ca/~atmos/datasets/EST2016/GlobalGWRwUni_PM25_GL_199801_199812-RH35_Median_NoDust_NoSalt.nc'\n",
    "ascii_link='http://fizz.phys.dal.ca/~atmos/datasets/EST2016/GlobalGWRwUni_PM25_GL_199801_199812-RH35_Median-NoNegs.asc.zip'\n",
    "filename1='PM25_1998.nc'\n",
    "folder_name='Median-NoNegs.asc.zip'\n",
    "out_ascii='Median-NoNegs'\n",
    "filename2='GlobalGWRwUni_PM25_GL_199801_199812-RH35_Median-NoNegs.asc'\n",
    "\n",
    "urlretrieve(netcdf_link, filename1)\n",
    "urlretrieve(ascii_link, folder_name)\n",
    "with zipfile.ZipFile(folder_name) as zipped:\n",
    "        zipped.extractall(out_ascii)\n",
    "        \n",
    "net_cdf_data=gdal.Open(filename1)\n",
    "ascii_data=gdal.Open(os.path.join(out_ascii,filename2))"
   ]
  },
  {
   "cell_type": "code",
   "execution_count": 56,
   "metadata": {
    "collapsed": false
   },
   "outputs": [
    {
     "name": "stdout",
     "output_type": "stream",
     "text": [
      "Origin = ( 0.0 , 0.0 )\n",
      "Pixel Size = ( 1.0 , 1.0 )\n"
     ]
    }
   ],
   "source": [
    "geotransform1 = net_cdf_data.GetGeoTransform()\n",
    "if not geotransform1 is None:\n",
    "    print ('Origin = (',geotransform1[0], ',',geotransform1[3],')')\n",
    "    print ('Pixel Size = (',geotransform1[1], ',',geotransform1[5],')')"
   ]
  },
  {
   "cell_type": "code",
   "execution_count": 57,
   "metadata": {
    "collapsed": false
   },
   "outputs": [
    {
     "name": "stdout",
     "output_type": "stream",
     "text": [
      "Origin = ( -180.0 , 69.85 )\n",
      "Pixel Size = ( 0.01 , -0.01 )\n"
     ]
    }
   ],
   "source": [
    "geotransform2 = ascii_data.GetGeoTransform()\n",
    "if not geotransform1 is None:\n",
    "    print ('Origin = (',geotransform2[0], ',',geotransform2[3],')')\n",
    "    print ('Pixel Size = (',geotransform2[1], ',',geotransform2[5],')')"
   ]
  }
 ],
 "metadata": {
  "anaconda-cloud": {},
  "kernelspec": {
   "display_name": "Python [Root]",
   "language": "python",
   "name": "Python [Root]"
  },
  "language_info": {
   "codemirror_mode": {
    "name": "ipython",
    "version": 3
   },
   "file_extension": ".py",
   "mimetype": "text/x-python",
   "name": "python",
   "nbconvert_exporter": "python",
   "pygments_lexer": "ipython3",
   "version": "3.5.2"
  }
 },
 "nbformat": 4,
 "nbformat_minor": 0
}
